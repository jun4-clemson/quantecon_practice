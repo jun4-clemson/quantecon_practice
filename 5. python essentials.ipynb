{
 "cells": [
  {
   "cell_type": "code",
   "execution_count": 1,
   "metadata": {},
   "outputs": [],
   "source": [
    "import numpy as np"
   ]
  },
  {
   "cell_type": "code",
   "execution_count": 4,
   "metadata": {},
   "outputs": [],
   "source": [
    "# complex data is important in python\n",
    "x=complex(1,2)"
   ]
  },
  {
   "cell_type": "code",
   "execution_count": 3,
   "metadata": {},
   "outputs": [
    {
     "data": {
      "text/plain": [
       "(1+2j)"
      ]
     },
     "execution_count": 3,
     "metadata": {},
     "output_type": "execute_result"
    }
   ],
   "source": [
    "x"
   ]
  },
  {
   "cell_type": "code",
   "execution_count": 7,
   "metadata": {},
   "outputs": [],
   "source": [
    "# tuble\n",
    "x=(1,2)\n",
    "# or \n",
    "x=1,2\n",
    "# are the same"
   ]
  },
  {
   "cell_type": "code",
   "execution_count": 10,
   "metadata": {},
   "outputs": [],
   "source": [
    "# tuble is immutable, i.e. can not be change after create\n",
    "x=1,2\n",
    "# x[1]=0 # will return error\n",
    "#but if \n",
    "x=[1,2]\n",
    "x[1]=3 # works"
   ]
  },
  {
   "cell_type": "code",
   "execution_count": 13,
   "metadata": {},
   "outputs": [
    {
     "data": {
      "text/plain": [
       "1"
      ]
     },
     "execution_count": 13,
     "metadata": {},
     "output_type": "execute_result"
    }
   ],
   "source": [
    "# tuple or list can be unpacked\n",
    "x_1,x_2 = x\n",
    "x_1"
   ]
  },
  {
   "cell_type": "code",
   "execution_count": 22,
   "metadata": {},
   "outputs": [],
   "source": [
    "x_3 = zip(\"abc\",\"efghjk\") # until one input is exhausted"
   ]
  },
  {
   "cell_type": "code",
   "execution_count": 23,
   "metadata": {},
   "outputs": [
    {
     "data": {
      "text/plain": [
       "[('a', 'e'), ('b', 'f'), ('c', 'g')]"
      ]
     },
     "execution_count": 23,
     "metadata": {},
     "output_type": "execute_result"
    }
   ],
   "source": [
    "list(x_3)"
   ]
  },
  {
   "cell_type": "code",
   "execution_count": 24,
   "metadata": {},
   "outputs": [],
   "source": [
    "a=[1,2,3,4]"
   ]
  },
  {
   "cell_type": "code",
   "execution_count": 36,
   "metadata": {},
   "outputs": [
    {
     "name": "stdout",
     "output_type": "stream",
     "text": [
      "4\n",
      "[2, 3, 4]\n",
      "[2, 3]\n",
      "[3]\n"
     ]
    }
   ],
   "source": [
    "print(a[-1]) # dees not like R, [-1] mean start form the right\n",
    "print(a[1:]) #\n",
    "print(a[1:3]) # without 3\n",
    "print(a[-2:-1])"
   ]
  },
  {
   "cell_type": "code",
   "execution_count": 48,
   "metadata": {},
   "outputs": [
    {
     "name": "stdout",
     "output_type": "stream",
     "text": [
      "33\n",
      "<class 'dict'>\n"
     ]
    }
   ],
   "source": [
    "# dictionary\n",
    "d={'name':'Frodo', 'age':'33'}\n",
    "print(d['age'])\n",
    "print(type(d))"
   ]
  },
  {
   "cell_type": "code",
   "execution_count": 58,
   "metadata": {},
   "outputs": [
    {
     "name": "stdout",
     "output_type": "stream",
     "text": [
      "{'d', 's'}\n",
      "<class 'set'>\n",
      "True\n",
      "{'d', 's'}\n",
      "{'f', 's', 'h'}\n",
      "{'s', 'h', 'g'}\n"
     ]
    }
   ],
   "source": [
    "# \"set\" is different from \"dict\"\n",
    "s1={'s','d'}\n",
    "print(s1)\n",
    "print(type(s1))\n",
    "s2={'s','c','d','g'}\n",
    "print(s1.issubset(s2))\n",
    "print(s1.intersection(s2))\n",
    "# set() function create set from sequence\n",
    "s3=set((\"s\",\"f\",\"h\"))\n",
    "print(s3)\n",
    "s4=set(['s','g','h'])\n",
    "print(s4)"
   ]
  },
  {
   "cell_type": "code",
   "execution_count": 59,
   "metadata": {},
   "outputs": [
    {
     "name": "stdout",
     "output_type": "stream",
     "text": [
      "Writing newfile.py\n"
     ]
    }
   ],
   "source": [
    "%%file newfile.py\n",
    "print(\"ss\")"
   ]
  },
  {
   "cell_type": "code",
   "execution_count": 60,
   "metadata": {},
   "outputs": [],
   "source": [
    "# open and write files\n",
    "f = open('newfile.py','w') # open a newfile.txt for writing\n",
    "f.write('testing\\n')\n",
    "f.write('testing again')\n",
    "f.close()"
   ]
  },
  {
   "cell_type": "code",
   "execution_count": 61,
   "metadata": {},
   "outputs": [
    {
     "data": {
      "text/plain": [
       "'/Users/lijun/Downloads/Quantecon_lecture'"
      ]
     },
     "execution_count": 61,
     "metadata": {},
     "output_type": "execute_result"
    }
   ],
   "source": [
    "%pwd"
   ]
  },
  {
   "cell_type": "code",
   "execution_count": 64,
   "metadata": {},
   "outputs": [
    {
     "data": {
      "text/plain": [
       "'testing\\ntesting again'"
      ]
     },
     "execution_count": 64,
     "metadata": {},
     "output_type": "execute_result"
    }
   ],
   "source": [
    "# open but just read file\n",
    "f = open('newfile.py', 'r')\n",
    "out = f.read()\n",
    "out"
   ]
  },
  {
   "cell_type": "code",
   "execution_count": 65,
   "metadata": {},
   "outputs": [
    {
     "name": "stdout",
     "output_type": "stream",
     "text": [
      "testing\n",
      "testing again\n"
     ]
    }
   ],
   "source": [
    "print(out)"
   ]
  },
  {
   "cell_type": "markdown",
   "metadata": {},
   "source": [
    "you can not add any \"#\" before %%...."
   ]
  },
  {
   "cell_type": "code",
   "execution_count": 70,
   "metadata": {},
   "outputs": [
    {
     "name": "stdout",
     "output_type": "stream",
     "text": [
      "Writing us_cities.txt\n"
     ]
    }
   ],
   "source": [
    "%%file us_cities.txt \n",
    "new york: 8244910\n",
    "los angeles: 3819702\n",
    "chicago: 2707120\n",
    "houston: 2145146\n",
    "philadelphia: 1536471\n",
    "phoenix: 1469471\n",
    "san antonio: 1359758\n",
    "san diego: 1326179\n",
    "dallas: 1223229"
   ]
  },
  {
   "cell_type": "code",
   "execution_count": 75,
   "metadata": {},
   "outputs": [
    {
     "name": "stdout",
     "output_type": "stream",
     "text": [
      "New York       8,244,910\n",
      "Los Angeles    3,819,702\n",
      "Chicago        2,707,120\n",
      "Houston        2,145,146\n",
      "Philadelphia   1,536,471\n",
      "Phoenix        1,469,471\n",
      "San Antonio    1,359,758\n",
      "San Diego      1,326,179\n",
      "Dallas         1,223,229\n"
     ]
    }
   ],
   "source": [
    "data_file = open('us_cities.txt','r')\n",
    "for line in data_file: # iterable on each row, and each row is 'str'\n",
    "    city, population = line.split(':') # can split str\n",
    "    city = city.title()\n",
    "    population = f'{int(population):,}'\n",
    "    print(city.ljust(15) + population)\n",
    "data_file.close()"
   ]
  },
  {
   "cell_type": "code",
   "execution_count": 76,
   "metadata": {},
   "outputs": [
    {
     "name": "stdout",
     "output_type": "stream",
     "text": [
      "The capital of Japan is Tokyo\n",
      "The capital of Korea is Seoul\n",
      "The capital of China is Beijing\n"
     ]
    }
   ],
   "source": [
    "# zip\n",
    "countries = ('Japan', 'Korea', 'China')\n",
    "cities = ('Tokyo', 'Seoul', 'Beijing')\n",
    "for country, city in zip(countries, cities):\n",
    "    print(f'The capital of {country} is {city}')"
   ]
  },
  {
   "cell_type": "code",
   "execution_count": 77,
   "metadata": {},
   "outputs": [
    {
     "data": {
      "text/plain": [
       "{'Tom': 'E', 'John': 'F'}"
      ]
     },
     "execution_count": 77,
     "metadata": {},
     "output_type": "execute_result"
    }
   ],
   "source": [
    "# zip can be used to creaete dictionary\n",
    "names = ['Tom', 'John']\n",
    "marks = ['E', 'F']\n",
    "dict(zip(names, marks))"
   ]
  },
  {
   "cell_type": "code",
   "execution_count": 87,
   "metadata": {},
   "outputs": [
    {
     "data": {
      "text/plain": [
       "dict"
      ]
     },
     "execution_count": 87,
     "metadata": {},
     "output_type": "execute_result"
    }
   ],
   "source": [
    "type(dict({'1':'3','2':'5'}))"
   ]
  },
  {
   "cell_type": "code",
   "execution_count": 86,
   "metadata": {},
   "outputs": [
    {
     "data": {
      "text/plain": [
       "dict"
      ]
     },
     "execution_count": 86,
     "metadata": {},
     "output_type": "execute_result"
    }
   ],
   "source": [
    "type({'1':'3',\"2\":\"5\"})"
   ]
  },
  {
   "cell_type": "code",
   "execution_count": 88,
   "metadata": {},
   "outputs": [
    {
     "name": "stdout",
     "output_type": "stream",
     "text": [
      "letter_list[0] = 'a'\n",
      "letter_list[1] = 'b'\n",
      "letter_list[2] = 'c'\n"
     ]
    }
   ],
   "source": [
    "# what if we need the index for a list? use enumerate\n",
    "letter_list = ['a', 'b', 'c']\n",
    "for index, letter in enumerate(letter_list): # work for the case that index is not from 1 to n\n",
    "    print(f\"letter_list[{index}] = '{letter}'\")"
   ]
  },
  {
   "cell_type": "code",
   "execution_count": 89,
   "metadata": {},
   "outputs": [
    {
     "data": {
      "text/plain": [
       "['dogs', 'cats', 'birds']"
      ]
     },
     "execution_count": 89,
     "metadata": {},
     "output_type": "execute_result"
    }
   ],
   "source": [
    "# list comprehension\n",
    "animals = ['dog', 'cat', 'bird']\n",
    "plurals = [animal + 's' for animal in animals]\n",
    "plurals"
   ]
  },
  {
   "cell_type": "code",
   "execution_count": 96,
   "metadata": {},
   "outputs": [
    {
     "data": {
      "text/plain": [
       "'yes'"
      ]
     },
     "execution_count": 96,
     "metadata": {},
     "output_type": "execute_result"
    }
   ],
   "source": [
    "# condition\n",
    "x= 'yes' if 42 else \"no\"\n",
    "x"
   ]
  },
  {
   "cell_type": "code",
   "execution_count": 97,
   "metadata": {},
   "outputs": [
    {
     "data": {
      "text/plain": [
       "'no'"
      ]
     },
     "execution_count": 97,
     "metadata": {},
     "output_type": "execute_result"
    }
   ],
   "source": [
    "x = 'yes' if [] else 'no' # when the condition is empty list, container, sequence and None, it is equivalent to False\n",
    "x"
   ]
  },
  {
   "cell_type": "code",
   "execution_count": 98,
   "metadata": {},
   "outputs": [
    {
     "name": "stdout",
     "output_type": "stream",
     "text": [
      "year\n"
     ]
    }
   ],
   "source": [
    "# multiple condition use $ or | to connect\n",
    "a=100\n",
    "if a>10 & a<101:\n",
    "    print('year')"
   ]
  },
  {
   "cell_type": "code",
   "execution_count": 99,
   "metadata": {},
   "outputs": [],
   "source": [
    "# not True is False, not not True is True"
   ]
  },
  {
   "cell_type": "code",
   "execution_count": 106,
   "metadata": {},
   "outputs": [],
   "source": [
    "# function terminate when the first 'return' is hit\n",
    "def f(x):\n",
    "    if x < 0:\n",
    "        \"\"\"\n",
    "        this is call docstring. just like comment but can be read when you use \"?\"\n",
    "        \"\"\"\n",
    "        return 'negative'\n",
    "    return 'nonnegative'"
   ]
  },
  {
   "cell_type": "code",
   "execution_count": 105,
   "metadata": {},
   "outputs": [
    {
     "data": {
      "text/plain": [
       "'negative'"
      ]
     },
     "execution_count": 105,
     "metadata": {},
     "output_type": "execute_result"
    }
   ],
   "source": [
    "f(-1)"
   ]
  },
  {
   "cell_type": "code",
   "execution_count": 107,
   "metadata": {},
   "outputs": [],
   "source": [
    "?f # return the docstring\n",
    "??f #return the source function"
   ]
  },
  {
   "cell_type": "code",
   "execution_count": 108,
   "metadata": {},
   "outputs": [],
   "source": [
    "# one line function\n",
    "f = lambda x: x**3"
   ]
  },
  {
   "cell_type": "code",
   "execution_count": 109,
   "metadata": {},
   "outputs": [
    {
     "data": {
      "text/plain": [
       "27"
      ]
     },
     "execution_count": 109,
     "metadata": {},
     "output_type": "execute_result"
    }
   ],
   "source": [
    "f(3)"
   ]
  },
  {
   "cell_type": "code",
   "execution_count": 110,
   "metadata": {},
   "outputs": [
    {
     "data": {
      "text/plain": [
       "(4.0, 4.440892098500626e-14)"
      ]
     },
     "execution_count": 110,
     "metadata": {},
     "output_type": "execute_result"
    }
   ],
   "source": [
    "from scipy.integrate import quad\n",
    "quad(lambda x: x**3,0,2) # lambda x:x.... is a easy way to write function without saving it."
   ]
  },
  {
   "cell_type": "code",
   "execution_count": 113,
   "metadata": {
    "scrolled": true
   },
   "outputs": [
    {
     "data": {
      "text/plain": [
       "31"
      ]
     },
     "execution_count": 113,
     "metadata": {},
     "output_type": "execute_result"
    }
   ],
   "source": [
    "x_list=(1,3,4)\n",
    "y_list=(2,3,5)\n",
    "sol=0\n",
    "for i,j in zip(x_list,y_list):\n",
    "    sol += i*j\n",
    "sol"
   ]
  },
  {
   "cell_type": "code",
   "execution_count": 114,
   "metadata": {},
   "outputs": [
    {
     "name": "stdout",
     "output_type": "stream",
     "text": [
      "<generator object <genexpr> at 0x7f8468291900>\n"
     ]
    }
   ],
   "source": [
    "print(x for x in range(10))"
   ]
  },
  {
   "cell_type": "code",
   "execution_count": 116,
   "metadata": {},
   "outputs": [
    {
     "data": {
      "text/plain": [
       "50"
      ]
     },
     "execution_count": 116,
     "metadata": {},
     "output_type": "execute_result"
    }
   ],
   "source": [
    "count=0\n",
    "for i in range(100):\n",
    "    count+=(1-i%2)\n",
    "count"
   ]
  },
  {
   "cell_type": "code",
   "execution_count": 117,
   "metadata": {},
   "outputs": [
    {
     "data": {
      "text/plain": [
       "50"
      ]
     },
     "execution_count": 117,
     "metadata": {},
     "output_type": "execute_result"
    }
   ],
   "source": [
    "sum([x%2==0 for x in range(100)]) # one line for loop in [], since for loop create a list"
   ]
  },
  {
   "cell_type": "code",
   "execution_count": 159,
   "metadata": {},
   "outputs": [],
   "source": [
    "pairs = ((2, 5), (4, 2), (9, 8), (12, 10))\n",
    "count=0\n",
    "for x,y in pairs:\n",
    "    count=count + 1 if x%2==0 and y%2==0 else count"
   ]
  },
  {
   "cell_type": "code",
   "execution_count": 170,
   "metadata": {},
   "outputs": [
    {
     "data": {
      "text/plain": [
       "True"
      ]
     },
     "execution_count": 170,
     "metadata": {},
     "output_type": "execute_result"
    }
   ],
   "source": [
    "# why and is different from &\n",
    "False & True\n",
    "True & False\n",
    "False & False\n",
    "True & True \n",
    "2%2==0 & 9%2==0"
   ]
  },
  {
   "cell_type": "code",
   "execution_count": 160,
   "metadata": {},
   "outputs": [
    {
     "data": {
      "text/plain": [
       "2"
      ]
     },
     "execution_count": 160,
     "metadata": {},
     "output_type": "execute_result"
    }
   ],
   "source": [
    "count"
   ]
  },
  {
   "cell_type": "code",
   "execution_count": 137,
   "metadata": {},
   "outputs": [
    {
     "data": {
      "text/plain": [
       "2"
      ]
     },
     "execution_count": 137,
     "metadata": {},
     "output_type": "execute_result"
    }
   ],
   "source": [
    "pairs = ((2, 5), (4, 2), (9, 8), (12, 10))\n",
    "sum([x % 2 == 0 and y % 2 == 0 for x, y in pairs])"
   ]
  },
  {
   "cell_type": "code",
   "execution_count": 173,
   "metadata": {},
   "outputs": [
    {
     "name": "stdout",
     "output_type": "stream",
     "text": [
      "25\n",
      "\n",
      "42\n",
      "42\n",
      "\n",
      "\n",
      "1210\n",
      "1210\n"
     ]
    }
   ],
   "source": [
    "# Exercise 5.1\n",
    "pairs = ((2, 5), (4, 2), (9, 8), (12, 10))\n",
    "count=0\n",
    "for x,y in pairs:\n",
    "    print(str(x)+str(y)) if x%2==0 & y%2==0 else print(\"\")\n",
    "    print(str(x)+str(y)) if x%2==0 and y%2==0 else print(\"\")"
   ]
  },
  {
   "cell_type": "code",
   "execution_count": null,
   "metadata": {},
   "outputs": [],
   "source": [
    "# Exercise 5.1 \n",
    "sum([i for i in range(10) if i>5 ]) # for loop and if condition in one line is note allow for else\n",
    "# sum([i for i in range(10) if i>5 else 0]) # does not works"
   ]
  },
  {
   "cell_type": "code",
   "execution_count": null,
   "metadata": {},
   "outputs": [],
   "source": [
    "# distinguish the order\n",
    "sum(i>5 for i in range(10)) # return 4 since 6,7,8,9 > 5, 4 numbers\n",
    "sum(i for i in range(10) if i>5) # since 6+7+8+9 = 30"
   ]
  },
  {
   "cell_type": "code",
   "execution_count": 8,
   "metadata": {},
   "outputs": [
    {
     "data": {
      "text/plain": [
       "55"
      ]
     },
     "execution_count": 8,
     "metadata": {},
     "output_type": "execute_result"
    }
   ],
   "source": [
    "# Exercise 5.2\n",
    "def poly_fun(x,coef):\n",
    "    res=0\n",
    "    for index,value in enumerate(coef): # enumerate is a tuple with index and value.\n",
    "        res+=value*x**index\n",
    "    return res\n",
    "poly_fun(1,[1,2,3,4,5,6,7,8,9,10])"
   ]
  },
  {
   "cell_type": "code",
   "execution_count": 10,
   "metadata": {},
   "outputs": [
    {
     "data": {
      "text/plain": [
       "1"
      ]
     },
     "execution_count": 10,
     "metadata": {},
     "output_type": "execute_result"
    }
   ],
   "source": [
    "1 if 41 else 0"
   ]
  },
  {
   "cell_type": "code",
   "execution_count": 30,
   "metadata": {},
   "outputs": [
    {
     "data": {
      "text/plain": [
       "7"
      ]
     },
     "execution_count": 30,
     "metadata": {},
     "output_type": "execute_result"
    }
   ],
   "source": [
    "# Exercise 5.3\n",
    "def num_upp(x):\n",
    "    count=0\n",
    "    for i,j in zip(x,x.upper()):\n",
    "        count = count + (1 if i==j else 0)\n",
    "    return count\n",
    "num_upp(\"sogVkdVJDH\")\n",
    "# or \n",
    "def num_uppp(x):\n",
    "    return sum(i==j for i,j in zip(x,x.upper()))\n",
    "num_uppp(\"lskLKJFlsjfLLK\")"
   ]
  },
  {
   "cell_type": "code",
   "execution_count": 49,
   "metadata": {},
   "outputs": [],
   "source": [
    "# Exercise 5.4 use set() can transform list,tuple,string to a set\n",
    "def is_subset(x,y):\n",
    "    x=set(x)\n",
    "    y=set(y)\n",
    "    return x.issubset(y)\n",
    "# or \n",
    "def is_subsett(x,y):\n",
    "    return sum(i in y for i in x)==len(x)"
   ]
  },
  {
   "cell_type": "code",
   "execution_count": 97,
   "metadata": {},
   "outputs": [
    {
     "data": {
      "text/plain": [
       "2.666598646396626"
      ]
     },
     "execution_count": 97,
     "metadata": {},
     "output_type": "execute_result"
    }
   ],
   "source": [
    "# Exercise 5.5 \n",
    "def personal_inte(f,a,b,n):\n",
    "    point_list = list(np.linspace(a,b,n))\n",
    "    res = sum(f((point_list[i]+point_list[i+1])/2)*(point_list[i+1]-point_list[i]) for i,value in enumerate(point_list) if i<len(point_list)-1)\n",
    "    return res\n",
    "personal_inte(lambda x: x**2,0,2,100)"
   ]
  },
  {
   "cell_type": "code",
   "execution_count": 98,
   "metadata": {},
   "outputs": [],
   "source": [
    "# Exercise 5.6\n",
    "n=100\n",
    "ϵ_values = np.empty(n)\n",
    "ϵ_values = np.random.randn(n)"
   ]
  },
  {
   "cell_type": "code",
   "execution_count": 99,
   "metadata": {},
   "outputs": [
    {
     "data": {
      "text/plain": [
       "array([-0.55180901,  0.94225305,  0.05606763,  1.72989614, -0.49641168,\n",
       "       -1.93774895,  0.32864163, -0.95065178, -1.42409923,  0.46024599,\n",
       "       -1.28563164,  0.79953443,  0.30564377,  2.25816137,  0.14111426,\n",
       "        0.84974794,  0.27995054,  0.03905381,  0.56232067,  1.12690903,\n",
       "        0.60887651,  0.1353143 ,  0.15196527,  1.00763091,  0.68464567,\n",
       "       -0.26805995,  0.23402699, -0.83403623,  0.63479923,  1.13884915,\n",
       "        0.22801763, -0.42130429, -1.62350136, -0.07830297, -0.78462347,\n",
       "       -0.63420113, -0.52431055,  0.79187368, -0.44150733, -0.38651947,\n",
       "        0.2976497 ,  0.27008688,  1.22684452,  0.359315  ,  2.22398928,\n",
       "       -0.62203339,  0.38176361,  0.17859387,  0.9736534 , -0.6988018 ,\n",
       "       -0.33831216,  1.89215352, -0.21256302,  0.13409503,  0.84654364,\n",
       "       -0.56451277,  0.51620355,  0.11243125, -0.07458996,  1.31032684,\n",
       "        1.06989874, -0.62756678, -1.82445804,  1.15028836,  0.25390062,\n",
       "        0.55401963, -1.1446718 ,  0.02376272, -0.14064425,  0.58286558,\n",
       "        1.0515832 , -2.07448532, -0.18254867,  0.5369875 ,  1.01848647,\n",
       "        0.62399908,  1.24527638,  0.76552009,  0.47566706, -0.070403  ,\n",
       "        0.30466778, -1.21798897,  1.34809783, -1.5725123 , -0.4921935 ,\n",
       "        0.83291541,  1.67497493,  0.31388076, -0.10517498, -0.38357857,\n",
       "        0.31669991, -0.66466269, -1.03457436,  0.44554498,  0.85362519,\n",
       "        0.82928236,  0.35985703, -0.90925649, -1.82572955,  1.52753711])"
      ]
     },
     "execution_count": 99,
     "metadata": {},
     "output_type": "execute_result"
    }
   ],
   "source": [
    "ϵ_values"
   ]
  },
  {
   "cell_type": "code",
   "execution_count": null,
   "metadata": {},
   "outputs": [],
   "source": []
  }
 ],
 "metadata": {
  "kernelspec": {
   "display_name": "Python 3",
   "language": "python",
   "name": "python3"
  },
  "language_info": {
   "codemirror_mode": {
    "name": "ipython",
    "version": 3
   },
   "file_extension": ".py",
   "mimetype": "text/x-python",
   "name": "python",
   "nbconvert_exporter": "python",
   "pygments_lexer": "ipython3",
   "version": "3.8.5"
  }
 },
 "nbformat": 4,
 "nbformat_minor": 4
}
