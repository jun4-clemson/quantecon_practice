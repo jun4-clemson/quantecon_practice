{
 "cells": [
  {
   "cell_type": "code",
   "execution_count": 33,
   "metadata": {},
   "outputs": [],
   "source": [
    "def seri_sum(n,num,den):\n",
    "    seri=[]\n",
    "    expect=[]\n",
    "    for i in range(n):\n",
    "        seri.append((num/den)**i)\n",
    "        expect.append((i+1)*(num/den)**i)\n",
    "    print(\"sum is \"+ str(sum(seri))+\" and expectation is\" + str(sum(expect)))\n",
    "#     print(\"seri is \" + str(seri))\n",
    "#     print(\"expect is \"+ str(expect))\n",
    "\n",
    "#     print(seri)"
   ]
  },
  {
   "cell_type": "code",
   "execution_count": 34,
   "metadata": {},
   "outputs": [
    {
     "name": "stdout",
     "output_type": "stream",
     "text": [
      "sum is 2.0 and expectation is3.9999999999999996\n"
     ]
    }
   ],
   "source": [
    "seri_sum(1000,1,2)"
   ]
  },
  {
   "cell_type": "code",
   "execution_count": 9,
   "metadata": {},
   "outputs": [
    {
     "name": "stdout",
     "output_type": "stream",
     "text": [
      "[1.0, 0.5, 0.25, 0.125, 0.0625, 0.03125, 0.015625, 0.0078125, 0.00390625, 0.001953125]\n"
     ]
    }
   ],
   "source": [
    "seri_sum(10)"
   ]
  },
  {
   "cell_type": "code",
   "execution_count": 41,
   "metadata": {},
   "outputs": [
    {
     "data": {
      "text/plain": [
       "[0, 1, 2, 3, 4, 5, 6, 7]"
      ]
     },
     "execution_count": 41,
     "metadata": {},
     "output_type": "execute_result"
    }
   ],
   "source": [
    "t[:-1]"
   ]
  },
  {
   "cell_type": "code",
   "execution_count": 37,
   "metadata": {},
   "outputs": [
    {
     "name": "stdout",
     "output_type": "stream",
     "text": [
      "0\n",
      "0\n",
      "1\n",
      "3\n",
      "6\n",
      "10\n",
      "15\n",
      "21\n",
      "28\n"
     ]
    }
   ],
   "source": [
    "t=[]\n",
    "for i in range(9):\n",
    "    t.append(i)\n",
    "    print(sum(t[:-1]))"
   ]
  },
  {
   "cell_type": "code",
   "execution_count": 77,
   "metadata": {},
   "outputs": [],
   "source": [
    "def coin_game(number,prob,n=1):\n",
    "    prob_seri=[]\n",
    "    exp_seri=[]\n",
    "    for i in range(number):\n",
    "        if i+1<n:\n",
    "            prob_seri.append(0)\n",
    "        elif i+1 == n:\n",
    "            prob_seri.append(prob)\n",
    "#         elif i+1<2*n:\n",
    "#             prob_seri.append(prob)\n",
    "        else:\n",
    "            prob_seri.append((1-sum(prob_seri[:i+1]))*prob)\n",
    "    for j in range(number):\n",
    "        exp_seri.append((j+1)*prob_seri[j])\n",
    "#     print(prob_seri)\n",
    "#     print(exp_seri)\n",
    "    print(sum(exp_seri))"
   ]
  },
  {
   "cell_type": "code",
   "execution_count": 79,
   "metadata": {},
   "outputs": [
    {
     "name": "stdout",
     "output_type": "stream",
     "text": [
      "5.000000277555303\n"
     ]
    }
   ],
   "source": [
    "coin_game(100000,0.25,2) # 条件概率搞错了。如果前两个不是正反，name前两个只有可能是正正，反反，反正。 而其中只有第二个是正，才能在第三个是反的情况下停止"
   ]
  },
  {
   "cell_type": "code",
   "execution_count": null,
   "metadata": {},
   "outputs": [],
   "source": []
  }
 ],
 "metadata": {
  "kernelspec": {
   "display_name": "Python 3",
   "language": "python",
   "name": "python3"
  },
  "language_info": {
   "codemirror_mode": {
    "name": "ipython",
    "version": 3
   },
   "file_extension": ".py",
   "mimetype": "text/x-python",
   "name": "python",
   "nbconvert_exporter": "python",
   "pygments_lexer": "ipython3",
   "version": "3.8.5"
  }
 },
 "nbformat": 4,
 "nbformat_minor": 4
}
